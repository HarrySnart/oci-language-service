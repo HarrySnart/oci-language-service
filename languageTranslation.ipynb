{
 "cells": [
  {
   "cell_type": "markdown",
   "id": "550a1cdf-9f83-4204-9c72-4aa7d7f36940",
   "metadata": {},
   "source": [
    "# Using OCI Language Services for Language Detection and Translation\n",
    "\n",
    "Here we implement a custom class, `ociLanguage`, which allows us to use the OCI AI Language services"
   ]
  },
  {
   "cell_type": "markdown",
   "id": "61cd890b-3aa7-4eba-ab60-675834f7476e",
   "metadata": {},
   "source": [
    "### Load Dependencies"
   ]
  },
  {
   "cell_type": "code",
   "execution_count": 1,
   "id": "c463021d-d44b-4ec0-87e2-c11e9c8c357d",
   "metadata": {
    "tags": []
   },
   "outputs": [],
   "source": [
    "import oci"
   ]
  },
  {
   "cell_type": "code",
   "execution_count": 2,
   "id": "6a11cdae-05ba-4963-b4ed-14129bffb9f5",
   "metadata": {
    "tags": []
   },
   "outputs": [],
   "source": [
    "from ociLanguage import ociLanguage"
   ]
  },
  {
   "cell_type": "markdown",
   "id": "c7d0b89e-5a80-4936-8f70-adde2bf18676",
   "metadata": {},
   "source": [
    "### Initialise Custom Class"
   ]
  },
  {
   "cell_type": "code",
   "execution_count": 3,
   "id": "1d9f635e-f819-4bfc-aa18-bf789067289d",
   "metadata": {
    "tags": []
   },
   "outputs": [],
   "source": [
    "# define OCI language client\n",
    "\n",
    "oci_language = ociLanguage()"
   ]
  },
  {
   "cell_type": "markdown",
   "id": "9b952b83-def2-4c43-bb90-95ccdec8929d",
   "metadata": {},
   "source": [
    "### Identify Input Language"
   ]
  },
  {
   "cell_type": "code",
   "execution_count": 4,
   "id": "565efcc8-9706-465b-867c-11a75bcf767d",
   "metadata": {
    "tags": []
   },
   "outputs": [
    {
     "name": "stdout",
     "output_type": "stream",
     "text": [
      "en\n"
     ]
    }
   ],
   "source": [
    "# languaeg detection\n",
    "\n",
    "output = ociLanguage().detectLanguage('I am speaking english')\n",
    "\n",
    "print(output)"
   ]
  },
  {
   "cell_type": "markdown",
   "id": "1e12e0e5-5e4c-4bc8-bffc-f86bd439862a",
   "metadata": {},
   "source": [
    "### Translate Text to English given Lanugage Code"
   ]
  },
  {
   "cell_type": "code",
   "execution_count": 5,
   "id": "7252339d-409b-4321-907f-b2bdc085f478",
   "metadata": {
    "tags": []
   },
   "outputs": [
    {
     "name": "stdout",
     "output_type": "stream",
     "text": [
      "Hello, I'm speaking in Spanish\n"
     ]
    }
   ],
   "source": [
    "# single input translation, with language code\n",
    "single_translation = oci_language.translateText('hola, estoy hablando en espanol','es')\n",
    "print(single_translation)"
   ]
  },
  {
   "cell_type": "markdown",
   "id": "fa4ce767-a308-43f2-8d92-deb391c442dd",
   "metadata": {},
   "source": [
    "### Translate Batch of Texts to English"
   ]
  },
  {
   "cell_type": "code",
   "execution_count": 6,
   "id": "0d1acc02-6d5c-417b-8e71-f263dc263e82",
   "metadata": {
    "tags": []
   },
   "outputs": [],
   "source": [
    "\n",
    "# list of strings to translate\n",
    "\n",
    "text_strings = [\"hello world, i'm speaking in english\",\"hola a el mundo, estoy hablando en espanol\",\"bonjour tout le monde, je parle en français\"]\n"
   ]
  },
  {
   "cell_type": "code",
   "execution_count": 7,
   "id": "6d01cb84-d843-4867-a029-1114fc519cb9",
   "metadata": {
    "tags": []
   },
   "outputs": [
    {
     "name": "stdout",
     "output_type": "stream",
     "text": [
      "batch translations: [\"hello world, i'm speaking in english\", \"Hello to the world, I'm speaking in Spanish\", 'Hello everyone, I speak in French']\n"
     ]
    }
   ],
   "source": [
    "# translate batch of strings\n",
    "\n",
    "multi_translate = oci_language.ociTranslate(text_strings)\n",
    "print('batch translations:',multi_translate)"
   ]
  }
 ],
 "metadata": {
  "kernelspec": {
   "display_name": "Python 3",
   "language": "python",
   "name": "python3"
  },
  "language_info": {
   "codemirror_mode": {
    "name": "ipython",
    "version": 3
   },
   "file_extension": ".py",
   "mimetype": "text/x-python",
   "name": "python",
   "nbconvert_exporter": "python",
   "pygments_lexer": "ipython3",
   "version": "3.12.0"
  }
 },
 "nbformat": 4,
 "nbformat_minor": 5
}
